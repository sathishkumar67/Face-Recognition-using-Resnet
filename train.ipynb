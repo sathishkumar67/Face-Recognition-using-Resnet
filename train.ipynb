{
 "cells": [
  {
   "cell_type": "code",
   "execution_count": 1,
   "id": "28ba0ea0",
   "metadata": {},
   "outputs": [
    {
     "name": "stdout",
     "output_type": "stream",
     "text": [
      "fatal: destination path 'Face-Recognition-using-Resnet' already exists and is not an empty directory.\n",
      "mv: cannot stat '/kaggle/working/Face-Recognition-using-Resnet/*': No such file or directory\n",
      "Requirement already satisfied: pip in /usr/local/lib/python3.11/dist-packages (25.1.1)\n",
      "Requirement already satisfied: tensorflow==2.19.0 in /usr/local/lib/python3.11/dist-packages (from -r requirements.txt (line 1)) (2.19.0)\n",
      "Requirement already satisfied: mtcnn==1.0.0 in /usr/local/lib/python3.11/dist-packages (from -r requirements.txt (line 2)) (1.0.0)\n",
      "Requirement already satisfied: tqdm==4.67.1 in /usr/local/lib/python3.11/dist-packages (from -r requirements.txt (line 3)) (4.67.1)\n",
      "Requirement already satisfied: numpy==1.26.4 in /usr/local/lib/python3.11/dist-packages (from -r requirements.txt (line 4)) (1.26.4)\n",
      "Requirement already satisfied: opencv-python==4.11.0.86 in /usr/local/lib/python3.11/dist-packages (from -r requirements.txt (line 5)) (4.11.0.86)\n",
      "Requirement already satisfied: huggingface-hub==0.30.2 in /usr/local/lib/python3.11/dist-packages (from -r requirements.txt (line 6)) (0.30.2)\n",
      "Requirement already satisfied: absl-py>=1.0.0 in /usr/local/lib/python3.11/dist-packages (from tensorflow==2.19.0->-r requirements.txt (line 1)) (1.4.0)\n",
      "Requirement already satisfied: astunparse>=1.6.0 in /usr/local/lib/python3.11/dist-packages (from tensorflow==2.19.0->-r requirements.txt (line 1)) (1.6.3)\n",
      "Requirement already satisfied: flatbuffers>=24.3.25 in /usr/local/lib/python3.11/dist-packages (from tensorflow==2.19.0->-r requirements.txt (line 1)) (25.2.10)\n",
      "Requirement already satisfied: gast!=0.5.0,!=0.5.1,!=0.5.2,>=0.2.1 in /usr/local/lib/python3.11/dist-packages (from tensorflow==2.19.0->-r requirements.txt (line 1)) (0.6.0)\n",
      "Requirement already satisfied: google-pasta>=0.1.1 in /usr/local/lib/python3.11/dist-packages (from tensorflow==2.19.0->-r requirements.txt (line 1)) (0.2.0)\n",
      "Requirement already satisfied: libclang>=13.0.0 in /usr/local/lib/python3.11/dist-packages (from tensorflow==2.19.0->-r requirements.txt (line 1)) (18.1.1)\n",
      "Requirement already satisfied: opt-einsum>=2.3.2 in /usr/local/lib/python3.11/dist-packages (from tensorflow==2.19.0->-r requirements.txt (line 1)) (3.4.0)\n",
      "Requirement already satisfied: packaging in /usr/local/lib/python3.11/dist-packages (from tensorflow==2.19.0->-r requirements.txt (line 1)) (24.2)\n",
      "Requirement already satisfied: protobuf!=4.21.0,!=4.21.1,!=4.21.2,!=4.21.3,!=4.21.4,!=4.21.5,<6.0.0dev,>=3.20.3 in /usr/local/lib/python3.11/dist-packages (from tensorflow==2.19.0->-r requirements.txt (line 1)) (3.20.3)\n",
      "Requirement already satisfied: requests<3,>=2.21.0 in /usr/local/lib/python3.11/dist-packages (from tensorflow==2.19.0->-r requirements.txt (line 1)) (2.32.3)\n",
      "Requirement already satisfied: setuptools in /usr/local/lib/python3.11/dist-packages (from tensorflow==2.19.0->-r requirements.txt (line 1)) (75.1.0)\n",
      "Requirement already satisfied: six>=1.12.0 in /usr/local/lib/python3.11/dist-packages (from tensorflow==2.19.0->-r requirements.txt (line 1)) (1.17.0)\n",
      "Requirement already satisfied: termcolor>=1.1.0 in /usr/local/lib/python3.11/dist-packages (from tensorflow==2.19.0->-r requirements.txt (line 1)) (2.5.0)\n",
      "Requirement already satisfied: typing-extensions>=3.6.6 in /usr/local/lib/python3.11/dist-packages (from tensorflow==2.19.0->-r requirements.txt (line 1)) (4.13.1)\n",
      "Requirement already satisfied: wrapt>=1.11.0 in /usr/local/lib/python3.11/dist-packages (from tensorflow==2.19.0->-r requirements.txt (line 1)) (1.17.2)\n",
      "Requirement already satisfied: grpcio<2.0,>=1.24.3 in /usr/local/lib/python3.11/dist-packages (from tensorflow==2.19.0->-r requirements.txt (line 1)) (1.70.0)\n",
      "Requirement already satisfied: tensorboard~=2.19.0 in /usr/local/lib/python3.11/dist-packages (from tensorflow==2.19.0->-r requirements.txt (line 1)) (2.19.0)\n",
      "Requirement already satisfied: keras>=3.5.0 in /usr/local/lib/python3.11/dist-packages (from tensorflow==2.19.0->-r requirements.txt (line 1)) (3.5.0)\n",
      "Requirement already satisfied: h5py>=3.11.0 in /usr/local/lib/python3.11/dist-packages (from tensorflow==2.19.0->-r requirements.txt (line 1)) (3.12.1)\n",
      "Requirement already satisfied: ml-dtypes<1.0.0,>=0.5.1 in /usr/local/lib/python3.11/dist-packages (from tensorflow==2.19.0->-r requirements.txt (line 1)) (0.5.1)\n",
      "Requirement already satisfied: tensorflow-io-gcs-filesystem>=0.23.1 in /usr/local/lib/python3.11/dist-packages (from tensorflow==2.19.0->-r requirements.txt (line 1)) (0.37.1)\n",
      "Requirement already satisfied: mkl_fft in /usr/local/lib/python3.11/dist-packages (from numpy==1.26.4->-r requirements.txt (line 4)) (1.3.8)\n",
      "Requirement already satisfied: mkl_random in /usr/local/lib/python3.11/dist-packages (from numpy==1.26.4->-r requirements.txt (line 4)) (1.2.4)\n",
      "Requirement already satisfied: mkl_umath in /usr/local/lib/python3.11/dist-packages (from numpy==1.26.4->-r requirements.txt (line 4)) (0.1.1)\n",
      "Requirement already satisfied: mkl in /usr/local/lib/python3.11/dist-packages (from numpy==1.26.4->-r requirements.txt (line 4)) (2025.1.0)\n",
      "Requirement already satisfied: tbb4py in /usr/local/lib/python3.11/dist-packages (from numpy==1.26.4->-r requirements.txt (line 4)) (2022.1.0)\n",
      "Requirement already satisfied: mkl-service in /usr/local/lib/python3.11/dist-packages (from numpy==1.26.4->-r requirements.txt (line 4)) (2.4.1)\n",
      "Requirement already satisfied: joblib>=1.4.2 in /usr/local/lib/python3.11/dist-packages (from mtcnn==1.0.0->-r requirements.txt (line 2)) (1.4.2)\n",
      "Requirement already satisfied: lz4>=4.3.3 in /usr/local/lib/python3.11/dist-packages (from mtcnn==1.0.0->-r requirements.txt (line 2)) (4.4.4)\n",
      "Requirement already satisfied: filelock in /usr/local/lib/python3.11/dist-packages (from huggingface-hub==0.30.2->-r requirements.txt (line 6)) (3.18.0)\n",
      "Requirement already satisfied: fsspec>=2023.5.0 in /usr/local/lib/python3.11/dist-packages (from huggingface-hub==0.30.2->-r requirements.txt (line 6)) (2025.3.2)\n",
      "Requirement already satisfied: pyyaml>=5.1 in /usr/local/lib/python3.11/dist-packages (from huggingface-hub==0.30.2->-r requirements.txt (line 6)) (6.0.2)\n",
      "Requirement already satisfied: charset-normalizer<4,>=2 in /usr/local/lib/python3.11/dist-packages (from requests<3,>=2.21.0->tensorflow==2.19.0->-r requirements.txt (line 1)) (3.4.1)\n",
      "Requirement already satisfied: idna<4,>=2.5 in /usr/local/lib/python3.11/dist-packages (from requests<3,>=2.21.0->tensorflow==2.19.0->-r requirements.txt (line 1)) (3.10)\n",
      "Requirement already satisfied: urllib3<3,>=1.21.1 in /usr/local/lib/python3.11/dist-packages (from requests<3,>=2.21.0->tensorflow==2.19.0->-r requirements.txt (line 1)) (2.3.0)\n",
      "Requirement already satisfied: certifi>=2017.4.17 in /usr/local/lib/python3.11/dist-packages (from requests<3,>=2.21.0->tensorflow==2.19.0->-r requirements.txt (line 1)) (2025.1.31)\n",
      "Requirement already satisfied: markdown>=2.6.8 in /usr/local/lib/python3.11/dist-packages (from tensorboard~=2.19.0->tensorflow==2.19.0->-r requirements.txt (line 1)) (3.7)\n",
      "Requirement already satisfied: tensorboard-data-server<0.8.0,>=0.7.0 in /usr/local/lib/python3.11/dist-packages (from tensorboard~=2.19.0->tensorflow==2.19.0->-r requirements.txt (line 1)) (0.7.2)\n",
      "Requirement already satisfied: werkzeug>=1.0.1 in /usr/local/lib/python3.11/dist-packages (from tensorboard~=2.19.0->tensorflow==2.19.0->-r requirements.txt (line 1)) (3.1.3)\n",
      "Requirement already satisfied: wheel<1.0,>=0.23.0 in /usr/local/lib/python3.11/dist-packages (from astunparse>=1.6.0->tensorflow==2.19.0->-r requirements.txt (line 1)) (0.45.1)\n",
      "Requirement already satisfied: rich in /usr/local/lib/python3.11/dist-packages (from keras>=3.5.0->tensorflow==2.19.0->-r requirements.txt (line 1)) (14.0.0)\n",
      "Requirement already satisfied: namex in /usr/local/lib/python3.11/dist-packages (from keras>=3.5.0->tensorflow==2.19.0->-r requirements.txt (line 1)) (0.0.8)\n",
      "Requirement already satisfied: optree in /usr/local/lib/python3.11/dist-packages (from keras>=3.5.0->tensorflow==2.19.0->-r requirements.txt (line 1)) (0.14.0)\n",
      "Requirement already satisfied: MarkupSafe>=2.1.1 in /usr/local/lib/python3.11/dist-packages (from werkzeug>=1.0.1->tensorboard~=2.19.0->tensorflow==2.19.0->-r requirements.txt (line 1)) (3.0.2)\n",
      "Requirement already satisfied: intel-openmp<2026,>=2024 in /usr/local/lib/python3.11/dist-packages (from mkl->numpy==1.26.4->-r requirements.txt (line 4)) (2024.2.0)\n",
      "Requirement already satisfied: tbb==2022.* in /usr/local/lib/python3.11/dist-packages (from mkl->numpy==1.26.4->-r requirements.txt (line 4)) (2022.1.0)\n",
      "Requirement already satisfied: intel-cmplr-lib-ur==2024.2.0 in /usr/local/lib/python3.11/dist-packages (from intel-openmp<2026,>=2024->mkl->numpy==1.26.4->-r requirements.txt (line 4)) (2024.2.0)\n",
      "Requirement already satisfied: tcmlib==1.* in /usr/local/lib/python3.11/dist-packages (from tbb==2022.*->mkl->numpy==1.26.4->-r requirements.txt (line 4)) (1.2.0)\n",
      "Requirement already satisfied: intel-cmplr-lib-rt in /usr/local/lib/python3.11/dist-packages (from mkl_umath->numpy==1.26.4->-r requirements.txt (line 4)) (2024.2.0)\n",
      "Requirement already satisfied: markdown-it-py>=2.2.0 in /usr/local/lib/python3.11/dist-packages (from rich->keras>=3.5.0->tensorflow==2.19.0->-r requirements.txt (line 1)) (3.0.0)\n",
      "Requirement already satisfied: pygments<3.0.0,>=2.13.0 in /usr/local/lib/python3.11/dist-packages (from rich->keras>=3.5.0->tensorflow==2.19.0->-r requirements.txt (line 1)) (2.19.1)\n",
      "Requirement already satisfied: mdurl~=0.1 in /usr/local/lib/python3.11/dist-packages (from markdown-it-py>=2.2.0->rich->keras>=3.5.0->tensorflow==2.19.0->-r requirements.txt (line 1)) (0.1.2)\n",
      "Looking in indexes: https://download.pytorch.org/whl/cu126\n",
      "Requirement already satisfied: torch in /usr/local/lib/python3.11/dist-packages (2.5.1+cu124)\n",
      "Requirement already satisfied: torchvision in /usr/local/lib/python3.11/dist-packages (0.20.1+cu124)\n",
      "Requirement already satisfied: torchaudio in /usr/local/lib/python3.11/dist-packages (2.5.1+cu124)\n",
      "Requirement already satisfied: filelock in /usr/local/lib/python3.11/dist-packages (from torch) (3.18.0)\n",
      "Requirement already satisfied: typing-extensions>=4.8.0 in /usr/local/lib/python3.11/dist-packages (from torch) (4.13.1)\n",
      "Requirement already satisfied: networkx in /usr/local/lib/python3.11/dist-packages (from torch) (3.4.2)\n",
      "Requirement already satisfied: jinja2 in /usr/local/lib/python3.11/dist-packages (from torch) (3.1.6)\n",
      "Requirement already satisfied: fsspec in /usr/local/lib/python3.11/dist-packages (from torch) (2025.3.2)\n",
      "Requirement already satisfied: nvidia-cuda-nvrtc-cu12==12.4.127 in /usr/local/lib/python3.11/dist-packages (from torch) (12.4.127)\n",
      "Requirement already satisfied: nvidia-cuda-runtime-cu12==12.4.127 in /usr/local/lib/python3.11/dist-packages (from torch) (12.4.127)\n",
      "Requirement already satisfied: nvidia-cuda-cupti-cu12==12.4.127 in /usr/local/lib/python3.11/dist-packages (from torch) (12.4.127)\n",
      "Requirement already satisfied: nvidia-cudnn-cu12==9.1.0.70 in /usr/local/lib/python3.11/dist-packages (from torch) (9.1.0.70)\n",
      "Requirement already satisfied: nvidia-cublas-cu12==12.4.5.8 in /usr/local/lib/python3.11/dist-packages (from torch) (12.4.5.8)\n",
      "Requirement already satisfied: nvidia-cufft-cu12==11.2.1.3 in /usr/local/lib/python3.11/dist-packages (from torch) (11.2.1.3)\n",
      "Requirement already satisfied: nvidia-curand-cu12==10.3.5.147 in /usr/local/lib/python3.11/dist-packages (from torch) (10.3.5.147)\n",
      "Requirement already satisfied: nvidia-cusolver-cu12==11.6.1.9 in /usr/local/lib/python3.11/dist-packages (from torch) (11.6.1.9)\n",
      "Requirement already satisfied: nvidia-cusparse-cu12==12.3.1.170 in /usr/local/lib/python3.11/dist-packages (from torch) (12.3.1.170)\n",
      "Requirement already satisfied: nvidia-nccl-cu12==2.21.5 in /usr/local/lib/python3.11/dist-packages (from torch) (2.21.5)\n",
      "Requirement already satisfied: nvidia-nvtx-cu12==12.4.127 in /usr/local/lib/python3.11/dist-packages (from torch) (12.4.127)\n",
      "Requirement already satisfied: nvidia-nvjitlink-cu12==12.4.127 in /usr/local/lib/python3.11/dist-packages (from torch) (12.4.127)\n",
      "Requirement already satisfied: triton==3.1.0 in /usr/local/lib/python3.11/dist-packages (from torch) (3.1.0)\n",
      "Requirement already satisfied: sympy==1.13.1 in /usr/local/lib/python3.11/dist-packages (from torch) (1.13.1)\n",
      "Requirement already satisfied: mpmath<1.4,>=1.1.0 in /usr/local/lib/python3.11/dist-packages (from sympy==1.13.1->torch) (1.3.0)\n",
      "Requirement already satisfied: numpy in /usr/local/lib/python3.11/dist-packages (from torchvision) (1.26.4)\n",
      "Requirement already satisfied: pillow!=8.3.*,>=5.3.0 in /usr/local/lib/python3.11/dist-packages (from torchvision) (11.1.0)\n",
      "Requirement already satisfied: MarkupSafe>=2.0 in /usr/local/lib/python3.11/dist-packages (from jinja2->torch) (3.0.2)\n",
      "Requirement already satisfied: mkl_fft in /usr/local/lib/python3.11/dist-packages (from numpy->torchvision) (1.3.8)\n",
      "Requirement already satisfied: mkl_random in /usr/local/lib/python3.11/dist-packages (from numpy->torchvision) (1.2.4)\n",
      "Requirement already satisfied: mkl_umath in /usr/local/lib/python3.11/dist-packages (from numpy->torchvision) (0.1.1)\n",
      "Requirement already satisfied: mkl in /usr/local/lib/python3.11/dist-packages (from numpy->torchvision) (2025.1.0)\n",
      "Requirement already satisfied: tbb4py in /usr/local/lib/python3.11/dist-packages (from numpy->torchvision) (2022.1.0)\n",
      "Requirement already satisfied: mkl-service in /usr/local/lib/python3.11/dist-packages (from numpy->torchvision) (2.4.1)\n",
      "Requirement already satisfied: intel-openmp<2026,>=2024 in /usr/local/lib/python3.11/dist-packages (from mkl->numpy->torchvision) (2024.2.0)\n",
      "Requirement already satisfied: tbb==2022.* in /usr/local/lib/python3.11/dist-packages (from mkl->numpy->torchvision) (2022.1.0)\n",
      "Requirement already satisfied: intel-cmplr-lib-ur==2024.2.0 in /usr/local/lib/python3.11/dist-packages (from intel-openmp<2026,>=2024->mkl->numpy->torchvision) (2024.2.0)\n",
      "Requirement already satisfied: tcmlib==1.* in /usr/local/lib/python3.11/dist-packages (from tbb==2022.*->mkl->numpy->torchvision) (1.2.0)\n",
      "Requirement already satisfied: intel-cmplr-lib-rt in /usr/local/lib/python3.11/dist-packages (from mkl_umath->numpy->torchvision) (2024.2.0)\n"
     ]
    }
   ],
   "source": [
    "# clone and install the required packages for the Face Recognition project\n",
    "!git clone https://github.com/sathishkumar67/Face-Recognition-using-Resnet.git\n",
    "!mv /kaggle/working/Face-Recognition-using-Resnet/* /kaggle/working/\n",
    "!pip install --upgrade pip\n",
    "!pip install -r requirements.txt\n",
    "!pip3 install torch torchvision torchaudio --index-url https://download.pytorch.org/whl/cu126"
   ]
  },
  {
   "cell_type": "code",
   "execution_count": 2,
   "id": "56e1ad87",
   "metadata": {},
   "outputs": [
    {
     "name": "stderr",
     "output_type": "stream",
     "text": [
      "2025-05-05 13:49:26.524222: E external/local_xla/xla/stream_executor/cuda/cuda_fft.cc:467] Unable to register cuFFT factory: Attempting to register factory for plugin cuFFT when one has already been registered\n",
      "WARNING: All log messages before absl::InitializeLog() is called are written to STDERR\n",
      "E0000 00:00:1746452966.842356     224 cuda_dnn.cc:8579] Unable to register cuDNN factory: Attempting to register factory for plugin cuDNN when one has already been registered\n",
      "E0000 00:00:1746452966.923937     224 cuda_blas.cc:1407] Unable to register cuBLAS factory: Attempting to register factory for plugin cuBLAS when one has already been registered\n",
      "W0000 00:00:1746452967.579210     224 computation_placer.cc:177] computation placer already registered. Please check linkage and avoid linking the same target more than once.\n",
      "W0000 00:00:1746452967.579251     224 computation_placer.cc:177] computation placer already registered. Please check linkage and avoid linking the same target more than once.\n",
      "W0000 00:00:1746452967.579254     224 computation_placer.cc:177] computation placer already registered. Please check linkage and avoid linking the same target more than once.\n",
      "W0000 00:00:1746452967.579256     224 computation_placer.cc:177] computation placer already registered. Please check linkage and avoid linking the same target more than once.\n"
     ]
    }
   ],
   "source": [
    "# Import necessary libraries\n",
    "import os\n",
    "import random\n",
    "import numpy as np\n",
    "import torch\n",
    "from huggingface_hub import hf_hub_download\n",
    "from siamese_resnet.utils import unzip_file\n",
    "from siamese_resnet.dataset import TripletDataset, TripletDatasetGenerator, triplet_collate_fn\n",
    "from siamese_resnet.model import SiameseResNet\n",
    "from siamese_resnet.loss import TripletLoss\n",
    "from siamese_resnet.trainer import train_model\n",
    "\n",
    "# Define constants\n",
    "DATASET_REPO_ID = \"pt-sk/Face_Recognition_Dataset\"\n",
    "DATA_ROOT = \"face_recognition_with_cropped_faces_dataset\"\n",
    "DATASET_FILENAME_IN_REPO = f\"{DATA_ROOT}.zip\"\n",
    "DATASET_REPO_TYPE = \"dataset\"\n",
    "LOCAL_DIR = os.getcwd()\n",
    "NUM_CORES = os.cpu_count()\n",
    "SEED = 42\n",
    "DATALOADER_PIN_MEMORY_DEVICE = \"cuda:0\" if torch.cuda.is_available() else \"cpu\"\n",
    "DEVICE = torch.device(\"cuda:0\" if torch.cuda.is_available() else \"cpu\")\n",
    "\n",
    "# Set the random seed for reproducibility\n",
    "random.seed(SEED)\n",
    "np.random.seed(SEED)\n",
    "torch.manual_seed(SEED)\n",
    "torch.cuda.manual_seed(SEED)\n",
    "\n",
    "# Download the dataset from Hugging Face Hub\n",
    "# hf_hub_download(repo_id=DATASET_REPO_ID, filename=DATASET_FILENAME_IN_REPO, repo_type=DATASET_REPO_TYPE, local_dir=LOCAL_DIR)\n",
    "\n",
    "# Unzip the dataset\n",
    "# unzip_file(os.path.join(LOCAL_DIR, DATASET_FILENAME_IN_REPO), LOCAL_DIR)"
   ]
  },
  {
   "cell_type": "code",
   "execution_count": 3,
   "id": "3a0021fd",
   "metadata": {},
   "outputs": [],
   "source": [
    "# Initialize generator\n",
    "generator = TripletDatasetGenerator(DATA_ROOT)\n",
    "\n",
    "# Create splits\n",
    "splits = generator.create_splits()\n",
    "    \n",
    "# Generate triplets for each split\n",
    "train_triplets = generator.generate_triplets(splits['train'])\n",
    "val_triplets = generator.generate_triplets(splits['val'])\n",
    "test_triplets = generator.generate_triplets(splits['test'])\n",
    "\n",
    "# Create datasets\n",
    "train_dataset = TripletDataset(train_triplets)\n",
    "val_dataset = TripletDataset(val_triplets)\n",
    "test_dataset = TripletDataset(test_triplets)\n",
    "\n",
    "# Create dataloaders (4 workers for optimal IO)\n",
    "train_loader = torch.utils.data.DataLoader(train_dataset, batch_size=32, shuffle=True, \n",
    "                        num_workers=NUM_CORES, pin_memory=True, persistent_workers=True,\n",
    "                        collate_fn=triplet_collate_fn, prefetch_factor=2, pin_memory_device=DATALOADER_PIN_MEMORY_DEVICE)\n",
    "val_loader = torch.utils.data.DataLoader(val_dataset, batch_size=32, shuffle=False,\n",
    "                        num_workers=NUM_CORES, pin_memory=True, persistent_workers=True,\n",
    "                        collate_fn=triplet_collate_fn, prefetch_factor=2, pin_memory_device=DATALOADER_PIN_MEMORY_DEVICE)\n",
    "test_loader = torch.utils.data.DataLoader(test_dataset, batch_size=32, shuffle=False,\n",
    "                        num_workers=NUM_CORES, pin_memory=True, persistent_workers=True,\n",
    "                        collate_fn=triplet_collate_fn, prefetch_factor=2, pin_memory_device=DATALOADER_PIN_MEMORY_DEVICE)"
   ]
  },
  {
   "cell_type": "code",
   "execution_count": 4,
   "id": "6989e068",
   "metadata": {},
   "outputs": [
    {
     "name": "stderr",
     "output_type": "stream",
     "text": [
      "Train Epoch 1: 100%|██████████| 169/169 [00:28<00:00,  5.98batch/s, loss=0.35, lr=0.0003] \n"
     ]
    },
    {
     "name": "stdout",
     "output_type": "stream",
     "text": [
      "\n",
      "Epoch 001 Summary:\n",
      "Train Loss: 0.4062 | Val Loss: 0.4083\n",
      "Learning Rate: 3.00e-04 | Time: 30.6s\n",
      "Best Val Loss: 0.4083 | Patience Left: 20\n"
     ]
    },
    {
     "name": "stderr",
     "output_type": "stream",
     "text": [
      "Train Epoch 2: 100%|██████████| 169/169 [00:25<00:00,  6.60batch/s, loss=0.414, lr=0.0003]\n"
     ]
    },
    {
     "name": "stdout",
     "output_type": "stream",
     "text": [
      "\n",
      "Epoch 002 Summary:\n",
      "Train Loss: 0.3717 | Val Loss: 0.3850\n",
      "Learning Rate: 3.00e-04 | Time: 27.3s\n",
      "Best Val Loss: 0.3850 | Patience Left: 20\n"
     ]
    },
    {
     "name": "stderr",
     "output_type": "stream",
     "text": [
      "Train Epoch 3: 100%|██████████| 169/169 [00:25<00:00,  6.60batch/s, loss=0.482, lr=0.0003]\n"
     ]
    },
    {
     "name": "stdout",
     "output_type": "stream",
     "text": [
      "\n",
      "Epoch 003 Summary:\n",
      "Train Loss: 0.4519 | Val Loss: 1.0351\n",
      "Learning Rate: 3.00e-04 | Time: 26.9s\n",
      "Best Val Loss: 0.3850 | Patience Left: 19\n"
     ]
    },
    {
     "name": "stderr",
     "output_type": "stream",
     "text": [
      "Train Epoch 4: 100%|██████████| 169/169 [00:25<00:00,  6.60batch/s, loss=0.443, lr=0.0003]\n"
     ]
    },
    {
     "name": "stdout",
     "output_type": "stream",
     "text": [
      "\n",
      "Epoch 004 Summary:\n",
      "Train Loss: 0.4678 | Val Loss: 0.5133\n",
      "Learning Rate: 3.00e-04 | Time: 26.9s\n",
      "Best Val Loss: 0.3850 | Patience Left: 18\n"
     ]
    },
    {
     "name": "stderr",
     "output_type": "stream",
     "text": [
      "Train Epoch 5: 100%|██████████| 169/169 [00:25<00:00,  6.59batch/s, loss=0.493, lr=0.0003]\n"
     ]
    },
    {
     "name": "stdout",
     "output_type": "stream",
     "text": [
      "\n",
      "Epoch 005 Summary:\n",
      "Train Loss: 0.4600 | Val Loss: 0.5000\n",
      "Learning Rate: 3.00e-04 | Time: 27.1s\n",
      "Best Val Loss: 0.3850 | Patience Left: 17\n"
     ]
    },
    {
     "name": "stderr",
     "output_type": "stream",
     "text": [
      "Train Epoch 6: 100%|██████████| 169/169 [00:25<00:00,  6.62batch/s, loss=0.265, lr=3e-5]\n"
     ]
    },
    {
     "name": "stdout",
     "output_type": "stream",
     "text": [
      "\n",
      "Epoch 006 Summary:\n",
      "Train Loss: 0.4374 | Val Loss: 0.4220\n",
      "Learning Rate: 3.00e-05 | Time: 26.8s\n",
      "Best Val Loss: 0.3850 | Patience Left: 16\n"
     ]
    },
    {
     "name": "stderr",
     "output_type": "stream",
     "text": [
      "Train Epoch 7: 100%|██████████| 169/169 [00:25<00:00,  6.59batch/s, loss=0.308, lr=3e-5]\n"
     ]
    },
    {
     "name": "stdout",
     "output_type": "stream",
     "text": [
      "\n",
      "Epoch 007 Summary:\n",
      "Train Loss: 0.3515 | Val Loss: 0.3355\n",
      "Learning Rate: 3.00e-05 | Time: 27.3s\n",
      "Best Val Loss: 0.3355 | Patience Left: 20\n"
     ]
    },
    {
     "name": "stderr",
     "output_type": "stream",
     "text": [
      "Train Epoch 8: 100%|██████████| 169/169 [00:25<00:00,  6.59batch/s, loss=0.344, lr=3e-5]\n"
     ]
    },
    {
     "name": "stdout",
     "output_type": "stream",
     "text": [
      "\n",
      "Epoch 008 Summary:\n",
      "Train Loss: 0.3232 | Val Loss: 0.3911\n",
      "Learning Rate: 3.00e-05 | Time: 27.0s\n",
      "Best Val Loss: 0.3355 | Patience Left: 19\n"
     ]
    },
    {
     "name": "stderr",
     "output_type": "stream",
     "text": [
      "Train Epoch 9: 100%|██████████| 169/169 [00:25<00:00,  6.62batch/s, loss=0.342, lr=3e-5]\n"
     ]
    },
    {
     "name": "stdout",
     "output_type": "stream",
     "text": [
      "\n",
      "Epoch 009 Summary:\n",
      "Train Loss: 0.3259 | Val Loss: 0.3656\n",
      "Learning Rate: 3.00e-05 | Time: 26.8s\n",
      "Best Val Loss: 0.3355 | Patience Left: 18\n"
     ]
    },
    {
     "name": "stderr",
     "output_type": "stream",
     "text": [
      "Train Epoch 10: 100%|██████████| 169/169 [00:25<00:00,  6.60batch/s, loss=0.314, lr=3e-5]\n"
     ]
    },
    {
     "name": "stdout",
     "output_type": "stream",
     "text": [
      "\n",
      "Epoch 010 Summary:\n",
      "Train Loss: 0.3012 | Val Loss: 0.2913\n",
      "Learning Rate: 3.00e-05 | Time: 27.3s\n",
      "Best Val Loss: 0.2913 | Patience Left: 20\n"
     ]
    },
    {
     "name": "stderr",
     "output_type": "stream",
     "text": [
      "Train Epoch 11: 100%|██████████| 169/169 [00:25<00:00,  6.59batch/s, loss=0.407, lr=3e-5]\n"
     ]
    },
    {
     "name": "stdout",
     "output_type": "stream",
     "text": [
      "\n",
      "Epoch 011 Summary:\n",
      "Train Loss: 0.2876 | Val Loss: 0.2986\n",
      "Learning Rate: 3.00e-05 | Time: 27.0s\n",
      "Best Val Loss: 0.2913 | Patience Left: 19\n"
     ]
    },
    {
     "name": "stderr",
     "output_type": "stream",
     "text": [
      "Train Epoch 12: 100%|██████████| 169/169 [00:25<00:00,  6.61batch/s, loss=0.267, lr=3e-5]\n"
     ]
    },
    {
     "name": "stdout",
     "output_type": "stream",
     "text": [
      "\n",
      "Epoch 012 Summary:\n",
      "Train Loss: 0.2794 | Val Loss: 0.2840\n",
      "Learning Rate: 3.00e-05 | Time: 27.2s\n",
      "Best Val Loss: 0.2840 | Patience Left: 20\n"
     ]
    },
    {
     "name": "stderr",
     "output_type": "stream",
     "text": [
      "Train Epoch 13: 100%|██████████| 169/169 [00:25<00:00,  6.60batch/s, loss=0.322, lr=3e-5]\n"
     ]
    },
    {
     "name": "stdout",
     "output_type": "stream",
     "text": [
      "\n",
      "Epoch 013 Summary:\n",
      "Train Loss: 0.2733 | Val Loss: 0.2690\n",
      "Learning Rate: 3.00e-05 | Time: 27.3s\n",
      "Best Val Loss: 0.2690 | Patience Left: 20\n"
     ]
    },
    {
     "name": "stderr",
     "output_type": "stream",
     "text": [
      "Train Epoch 14: 100%|██████████| 169/169 [00:25<00:00,  6.62batch/s, loss=0.33, lr=3e-5] \n"
     ]
    },
    {
     "name": "stdout",
     "output_type": "stream",
     "text": [
      "\n",
      "Epoch 014 Summary:\n",
      "Train Loss: 0.2707 | Val Loss: 0.2753\n",
      "Learning Rate: 3.00e-05 | Time: 26.9s\n",
      "Best Val Loss: 0.2690 | Patience Left: 19\n"
     ]
    },
    {
     "name": "stderr",
     "output_type": "stream",
     "text": [
      "Train Epoch 15: 100%|██████████| 169/169 [00:25<00:00,  6.59batch/s, loss=0.266, lr=3e-5]\n"
     ]
    },
    {
     "name": "stdout",
     "output_type": "stream",
     "text": [
      "\n",
      "Epoch 015 Summary:\n",
      "Train Loss: 0.2685 | Val Loss: 0.2714\n",
      "Learning Rate: 3.00e-05 | Time: 26.9s\n",
      "Best Val Loss: 0.2690 | Patience Left: 18\n"
     ]
    },
    {
     "name": "stderr",
     "output_type": "stream",
     "text": [
      "Train Epoch 16: 100%|██████████| 169/169 [00:25<00:00,  6.59batch/s, loss=0.305, lr=3e-5]\n"
     ]
    },
    {
     "name": "stdout",
     "output_type": "stream",
     "text": [
      "\n",
      "Epoch 016 Summary:\n",
      "Train Loss: 0.2672 | Val Loss: 0.2888\n",
      "Learning Rate: 3.00e-05 | Time: 27.0s\n",
      "Best Val Loss: 0.2690 | Patience Left: 17\n"
     ]
    },
    {
     "name": "stderr",
     "output_type": "stream",
     "text": [
      "Train Epoch 17: 100%|██████████| 169/169 [00:25<00:00,  6.60batch/s, loss=0.221, lr=3e-6]\n"
     ]
    },
    {
     "name": "stdout",
     "output_type": "stream",
     "text": [
      "\n",
      "Epoch 017 Summary:\n",
      "Train Loss: 0.2458 | Val Loss: 0.2610\n",
      "Learning Rate: 3.00e-06 | Time: 27.2s\n",
      "Best Val Loss: 0.2610 | Patience Left: 20\n"
     ]
    },
    {
     "name": "stderr",
     "output_type": "stream",
     "text": [
      "Train Epoch 18: 100%|██████████| 169/169 [00:25<00:00,  6.60batch/s, loss=0.234, lr=3e-6]\n"
     ]
    },
    {
     "name": "stdout",
     "output_type": "stream",
     "text": [
      "\n",
      "Epoch 018 Summary:\n",
      "Train Loss: 0.2292 | Val Loss: 0.2608\n",
      "Learning Rate: 3.00e-06 | Time: 27.3s\n",
      "Best Val Loss: 0.2608 | Patience Left: 20\n"
     ]
    },
    {
     "name": "stderr",
     "output_type": "stream",
     "text": [
      "Train Epoch 19: 100%|██████████| 169/169 [00:25<00:00,  6.61batch/s, loss=0.266, lr=3e-6] \n"
     ]
    },
    {
     "name": "stdout",
     "output_type": "stream",
     "text": [
      "\n",
      "Epoch 019 Summary:\n",
      "Train Loss: 0.2261 | Val Loss: 0.2579\n",
      "Learning Rate: 3.00e-06 | Time: 27.1s\n",
      "Best Val Loss: 0.2579 | Patience Left: 20\n"
     ]
    },
    {
     "name": "stderr",
     "output_type": "stream",
     "text": [
      "Train Epoch 20: 100%|██████████| 169/169 [00:25<00:00,  6.61batch/s, loss=0.119, lr=3e-6]\n"
     ]
    },
    {
     "name": "stdout",
     "output_type": "stream",
     "text": [
      "\n",
      "Epoch 020 Summary:\n",
      "Train Loss: 0.2187 | Val Loss: 0.2613\n",
      "Learning Rate: 3.00e-06 | Time: 26.9s\n",
      "Best Val Loss: 0.2579 | Patience Left: 19\n"
     ]
    },
    {
     "name": "stderr",
     "output_type": "stream",
     "text": [
      "Train Epoch 21: 100%|██████████| 169/169 [00:25<00:00,  6.60batch/s, loss=0.191, lr=3e-6] \n"
     ]
    },
    {
     "name": "stdout",
     "output_type": "stream",
     "text": [
      "\n",
      "Epoch 021 Summary:\n",
      "Train Loss: 0.2229 | Val Loss: 0.2630\n",
      "Learning Rate: 3.00e-06 | Time: 26.9s\n",
      "Best Val Loss: 0.2579 | Patience Left: 18\n"
     ]
    },
    {
     "name": "stderr",
     "output_type": "stream",
     "text": [
      "Train Epoch 22: 100%|██████████| 169/169 [00:25<00:00,  6.60batch/s, loss=0.259, lr=3e-6]\n"
     ]
    },
    {
     "name": "stdout",
     "output_type": "stream",
     "text": [
      "\n",
      "Epoch 022 Summary:\n",
      "Train Loss: 0.2168 | Val Loss: 0.2642\n",
      "Learning Rate: 3.00e-06 | Time: 26.9s\n",
      "Best Val Loss: 0.2579 | Patience Left: 17\n"
     ]
    },
    {
     "name": "stderr",
     "output_type": "stream",
     "text": [
      "Train Epoch 23: 100%|██████████| 169/169 [00:25<00:00,  6.59batch/s, loss=0.164, lr=3e-7]\n"
     ]
    },
    {
     "name": "stdout",
     "output_type": "stream",
     "text": [
      "\n",
      "Epoch 023 Summary:\n",
      "Train Loss: 0.2109 | Val Loss: 0.2669\n",
      "Learning Rate: 3.00e-07 | Time: 27.0s\n",
      "Best Val Loss: 0.2579 | Patience Left: 16\n"
     ]
    },
    {
     "name": "stderr",
     "output_type": "stream",
     "text": [
      "Train Epoch 24: 100%|██████████| 169/169 [00:25<00:00,  6.60batch/s, loss=0.246, lr=3e-7]\n"
     ]
    },
    {
     "name": "stdout",
     "output_type": "stream",
     "text": [
      "\n",
      "Epoch 024 Summary:\n",
      "Train Loss: 0.2084 | Val Loss: 0.2638\n",
      "Learning Rate: 3.00e-07 | Time: 26.9s\n",
      "Best Val Loss: 0.2579 | Patience Left: 15\n"
     ]
    },
    {
     "name": "stderr",
     "output_type": "stream",
     "text": [
      "Train Epoch 25: 100%|██████████| 169/169 [00:25<00:00,  6.60batch/s, loss=0.103, lr=3e-7]\n"
     ]
    },
    {
     "name": "stdout",
     "output_type": "stream",
     "text": [
      "\n",
      "Epoch 025 Summary:\n",
      "Train Loss: 0.2096 | Val Loss: 0.2630\n",
      "Learning Rate: 3.00e-07 | Time: 26.9s\n",
      "Best Val Loss: 0.2579 | Patience Left: 14\n"
     ]
    },
    {
     "name": "stderr",
     "output_type": "stream",
     "text": [
      "Train Epoch 26: 100%|██████████| 169/169 [00:25<00:00,  6.58batch/s, loss=0.252, lr=3e-8]\n"
     ]
    },
    {
     "name": "stdout",
     "output_type": "stream",
     "text": [
      "\n",
      "Epoch 026 Summary:\n",
      "Train Loss: 0.2085 | Val Loss: 0.2637\n",
      "Learning Rate: 3.00e-08 | Time: 27.0s\n",
      "Best Val Loss: 0.2579 | Patience Left: 13\n"
     ]
    },
    {
     "name": "stderr",
     "output_type": "stream",
     "text": [
      "Train Epoch 27: 100%|██████████| 169/169 [00:25<00:00,  6.61batch/s, loss=0.155, lr=3e-8] \n"
     ]
    },
    {
     "name": "stdout",
     "output_type": "stream",
     "text": [
      "\n",
      "Epoch 027 Summary:\n",
      "Train Loss: 0.2065 | Val Loss: 0.2628\n",
      "Learning Rate: 3.00e-08 | Time: 26.9s\n",
      "Best Val Loss: 0.2579 | Patience Left: 12\n"
     ]
    },
    {
     "name": "stderr",
     "output_type": "stream",
     "text": [
      "Train Epoch 28: 100%|██████████| 169/169 [00:25<00:00,  6.60batch/s, loss=0.115, lr=3e-8]\n"
     ]
    },
    {
     "name": "stdout",
     "output_type": "stream",
     "text": [
      "\n",
      "Epoch 028 Summary:\n",
      "Train Loss: 0.2053 | Val Loss: 0.2635\n",
      "Learning Rate: 3.00e-08 | Time: 26.9s\n",
      "Best Val Loss: 0.2579 | Patience Left: 11\n"
     ]
    },
    {
     "name": "stderr",
     "output_type": "stream",
     "text": [
      "Train Epoch 29: 100%|██████████| 169/169 [00:25<00:00,  6.61batch/s, loss=0.185, lr=3e-9]\n"
     ]
    },
    {
     "name": "stdout",
     "output_type": "stream",
     "text": [
      "\n",
      "Epoch 029 Summary:\n",
      "Train Loss: 0.2057 | Val Loss: 0.2637\n",
      "Learning Rate: 3.00e-09 | Time: 26.9s\n",
      "Best Val Loss: 0.2579 | Patience Left: 10\n"
     ]
    },
    {
     "name": "stderr",
     "output_type": "stream",
     "text": [
      "Train Epoch 30: 100%|██████████| 169/169 [00:25<00:00,  6.61batch/s, loss=0.284, lr=3e-9] \n"
     ]
    },
    {
     "name": "stdout",
     "output_type": "stream",
     "text": [
      "\n",
      "Epoch 030 Summary:\n",
      "Train Loss: 0.2072 | Val Loss: 0.2630\n",
      "Learning Rate: 3.00e-09 | Time: 26.8s\n",
      "Best Val Loss: 0.2579 | Patience Left: 9\n"
     ]
    },
    {
     "name": "stderr",
     "output_type": "stream",
     "text": [
      "Train Epoch 31: 100%|██████████| 169/169 [00:25<00:00,  6.60batch/s, loss=0.211, lr=3e-9]\n"
     ]
    },
    {
     "name": "stdout",
     "output_type": "stream",
     "text": [
      "\n",
      "Epoch 031 Summary:\n",
      "Train Loss: 0.2069 | Val Loss: 0.2629\n",
      "Learning Rate: 3.00e-09 | Time: 27.0s\n",
      "Best Val Loss: 0.2579 | Patience Left: 8\n"
     ]
    },
    {
     "name": "stderr",
     "output_type": "stream",
     "text": [
      "Train Epoch 32: 100%|██████████| 169/169 [00:25<00:00,  6.60batch/s, loss=0.232, lr=3e-9]\n"
     ]
    },
    {
     "name": "stdout",
     "output_type": "stream",
     "text": [
      "\n",
      "Epoch 032 Summary:\n",
      "Train Loss: 0.2036 | Val Loss: 0.2638\n",
      "Learning Rate: 3.00e-09 | Time: 26.9s\n",
      "Best Val Loss: 0.2579 | Patience Left: 7\n"
     ]
    },
    {
     "name": "stderr",
     "output_type": "stream",
     "text": [
      "Train Epoch 33: 100%|██████████| 169/169 [00:25<00:00,  6.60batch/s, loss=0.242, lr=3e-9]\n"
     ]
    },
    {
     "name": "stdout",
     "output_type": "stream",
     "text": [
      "\n",
      "Epoch 033 Summary:\n",
      "Train Loss: 0.2095 | Val Loss: 0.2643\n",
      "Learning Rate: 3.00e-09 | Time: 26.9s\n",
      "Best Val Loss: 0.2579 | Patience Left: 6\n"
     ]
    },
    {
     "name": "stderr",
     "output_type": "stream",
     "text": [
      "Train Epoch 34: 100%|██████████| 169/169 [00:25<00:00,  6.59batch/s, loss=0.138, lr=3e-9]\n"
     ]
    },
    {
     "name": "stdout",
     "output_type": "stream",
     "text": [
      "\n",
      "Epoch 034 Summary:\n",
      "Train Loss: 0.2088 | Val Loss: 0.2637\n",
      "Learning Rate: 3.00e-09 | Time: 27.0s\n",
      "Best Val Loss: 0.2579 | Patience Left: 5\n"
     ]
    },
    {
     "name": "stderr",
     "output_type": "stream",
     "text": [
      "Train Epoch 35: 100%|██████████| 169/169 [00:25<00:00,  6.61batch/s, loss=0.168, lr=3e-9]\n"
     ]
    },
    {
     "name": "stdout",
     "output_type": "stream",
     "text": [
      "\n",
      "Epoch 035 Summary:\n",
      "Train Loss: 0.2076 | Val Loss: 0.2634\n",
      "Learning Rate: 3.00e-09 | Time: 26.9s\n",
      "Best Val Loss: 0.2579 | Patience Left: 4\n"
     ]
    },
    {
     "name": "stderr",
     "output_type": "stream",
     "text": [
      "Train Epoch 36: 100%|██████████| 169/169 [00:25<00:00,  6.61batch/s, loss=0.253, lr=3e-9]\n"
     ]
    },
    {
     "name": "stdout",
     "output_type": "stream",
     "text": [
      "\n",
      "Epoch 036 Summary:\n",
      "Train Loss: 0.2055 | Val Loss: 0.2638\n",
      "Learning Rate: 3.00e-09 | Time: 26.9s\n",
      "Best Val Loss: 0.2579 | Patience Left: 3\n"
     ]
    },
    {
     "name": "stderr",
     "output_type": "stream",
     "text": [
      "Train Epoch 37: 100%|██████████| 169/169 [00:25<00:00,  6.60batch/s, loss=0.155, lr=3e-9] \n"
     ]
    },
    {
     "name": "stdout",
     "output_type": "stream",
     "text": [
      "\n",
      "Epoch 037 Summary:\n",
      "Train Loss: 0.2073 | Val Loss: 0.2647\n",
      "Learning Rate: 3.00e-09 | Time: 26.9s\n",
      "Best Val Loss: 0.2579 | Patience Left: 2\n"
     ]
    },
    {
     "name": "stderr",
     "output_type": "stream",
     "text": [
      "Train Epoch 38: 100%|██████████| 169/169 [00:25<00:00,  6.58batch/s, loss=0.257, lr=3e-9]\n"
     ]
    },
    {
     "name": "stdout",
     "output_type": "stream",
     "text": [
      "\n",
      "Epoch 038 Summary:\n",
      "Train Loss: 0.2045 | Val Loss: 0.2636\n",
      "Learning Rate: 3.00e-09 | Time: 27.0s\n",
      "Best Val Loss: 0.2579 | Patience Left: 1\n"
     ]
    },
    {
     "name": "stderr",
     "output_type": "stream",
     "text": [
      "Train Epoch 39: 100%|██████████| 169/169 [00:25<00:00,  6.60batch/s, loss=0.235, lr=3e-9]\n"
     ]
    },
    {
     "name": "stdout",
     "output_type": "stream",
     "text": [
      "\n",
      "Epoch 039 Summary:\n",
      "Train Loss: 0.2063 | Val Loss: 0.2643\n",
      "Learning Rate: 3.00e-09 | Time: 26.9s\n",
      "Best Val Loss: 0.2579 | Patience Left: 0\n",
      "\n",
      "Early stopping triggered after 39 epochs!\n"
     ]
    }
   ],
   "source": [
    "model = SiameseResNet(embedding_dim=256)\n",
    "criterion = TripletLoss(margin=0.5)\n",
    "optimizer = torch.optim.Adam(model.parameters(), lr=3e-4, weight_decay=1e-4, betas=(0.9, 0.999))\n",
    "\n",
    "history, model = train_model(\n",
    "    model=model.to(DEVICE),\n",
    "    device=DEVICE,\n",
    "    train_loader=train_loader,\n",
    "    val_loader=val_loader,\n",
    "    criterion=criterion,\n",
    "    optimizer=optimizer,\n",
    "    epochs=200,\n",
    "    patience=20,\n",
    "    checkpoint_path='best_face_model.pth'\n",
    ")   "
   ]
  }
 ],
 "metadata": {
  "kernelspec": {
   "display_name": "py3.10",
   "language": "python",
   "name": "python3"
  },
  "language_info": {
   "codemirror_mode": {
    "name": "ipython",
    "version": 3
   },
   "file_extension": ".py",
   "mimetype": "text/x-python",
   "name": "python",
   "nbconvert_exporter": "python",
   "pygments_lexer": "ipython3",
   "version": "3.10.16"
  }
 },
 "nbformat": 4,
 "nbformat_minor": 5
}
